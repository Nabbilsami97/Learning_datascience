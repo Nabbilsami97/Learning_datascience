{
 "cells": [
  {
   "cell_type": "markdown",
   "id": "8ed7c09e",
   "metadata": {},
   "source": [
    "# My Jupyter Notebook on IBM Watson Studio."
   ]
  },
  {
   "cell_type": "markdown",
   "id": "7629e15e",
   "metadata": {},
   "source": [
    "**Nabbil Ahmed Sami**"
   ]
  },
  {
   "cell_type": "markdown",
   "id": "11f0e9b6",
   "metadata": {},
   "source": [
    "*I have always loved data, and I would love to start a career in this sector. I also love communications and data visualization particularly interests me*"
   ]
  },
  {
   "cell_type": "markdown",
   "id": "a9abe9ad",
   "metadata": {},
   "source": [
    "### A basic arithmetic code that adds two numerals"
   ]
  },
  {
   "cell_type": "code",
   "execution_count": 13,
   "id": "f20d6b58",
   "metadata": {},
   "outputs": [
    {
     "name": "stdout",
     "output_type": "stream",
     "text": [
      "Hello\n"
     ]
    }
   ],
   "source": [
    "print (\"Hello\")"
   ]
  },
  {
   "cell_type": "markdown",
   "id": "5cad6837",
   "metadata": {},
   "source": [
    "|1|2|3|\n",
    "|-|-|-|"
   ]
  },
  {
   "cell_type": "markdown",
   "id": "4465357e",
   "metadata": {},
   "source": [
    "* Item 1"
   ]
  },
  {
   "cell_type": "markdown",
   "id": "2167df21",
   "metadata": {},
   "source": [
    "* Item 2"
   ]
  },
  {
   "cell_type": "markdown",
   "id": "ad4dcd90",
   "metadata": {},
   "source": [
    "* Item 3"
   ]
  },
  {
   "cell_type": "markdown",
   "id": "ac0a5a9f",
   "metadata": {},
   "source": [
    "[Cute Cat VIdeos](https://www.youtube.com/watch?v=ByH9LuSILxU)"
   ]
  },
  {
   "cell_type": "markdown",
   "id": "4309899e",
   "metadata": {},
   "source": [
    "This notebook contains a basic code, a table, and a hyperlink."
   ]
  },
  {
   "cell_type": "code",
   "execution_count": null,
   "id": "c0f62f33",
   "metadata": {},
   "outputs": [],
   "source": []
  }
 ],
 "metadata": {
  "kernelspec": {
   "display_name": "Python 3 (ipykernel)",
   "language": "python",
   "name": "python3"
  },
  "language_info": {
   "codemirror_mode": {
    "name": "ipython",
    "version": 3
   },
   "file_extension": ".py",
   "mimetype": "text/x-python",
   "name": "python",
   "nbconvert_exporter": "python",
   "pygments_lexer": "ipython3",
   "version": "3.9.12"
  }
 },
 "nbformat": 4,
 "nbformat_minor": 5
}
